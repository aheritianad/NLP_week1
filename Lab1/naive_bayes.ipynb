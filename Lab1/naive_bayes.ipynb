{
  "cells": [
    {
      "cell_type": "markdown",
      "metadata": {
        "id": "kS0IiQIMrvok"
      },
      "source": [
        "# [Heritiana Daniel Andriasolofo](mailto:handriasolofo@aimsammi.org)"
      ]
    },
    {
      "cell_type": "markdown",
      "metadata": {
        "id": "OMB0ag2cUTPK"
      },
      "source": [
        "The goal of this lab is to implement a language identifier (LID).\n",
        "\n",
        "Our first model will be based on Naive Bayes."
      ]
    },
    {
      "cell_type": "code",
      "execution_count": 1,
      "metadata": {
        "id": "xV8gjsL2UTPQ"
      },
      "outputs": [],
      "source": [
        "import io, sys, math, re\n",
        "from collections import defaultdict"
      ]
    },
    {
      "cell_type": "code",
      "execution_count": null,
      "metadata": {
        "id": "BnX16f3SdOPL"
      },
      "outputs": [],
      "source": [
        "!rm data.zip train* valid*\n",
        "!wget -O data.zip https://github.com/heritiana-aimsammi-sn2022/NLP_week1/blob/main/Lab1/data/data.zip?raw=true\n",
        "!unzip data.zip\n",
        "!rm data.zip"
      ]
    },
    {
      "cell_type": "markdown",
      "metadata": {
        "id": "U06ZCNhyUTPT"
      },
      "source": [
        "The next function is used to load the data. Each line of the data consist of a label (corresponding to a language), followed by some text, written in that language. Here is an example of data:\n",
        "\n",
        "```__label__de Zur Namensdeutung gibt es mehrere Varianten.```\n"
      ]
    },
    {
      "cell_type": "code",
      "execution_count": 3,
      "metadata": {
        "id": "mGe6PlVLUTPV"
      },
      "outputs": [],
      "source": [
        "def load_data(filename):\n",
        "    fin = io.open(filename, 'r', encoding='utf-8')\n",
        "    data = []\n",
        "    for line in fin:\n",
        "        tokens = line.split()\n",
        "        data.append((tokens[0], tokens[1:]))\n",
        "    return data"
      ]
    },
    {
      "cell_type": "markdown",
      "metadata": {
        "id": "kkCwk1dJUTPY"
      },
      "source": [
        "You can now try loading the first dataset `train1.txt` and look what examples look like."
      ]
    },
    {
      "cell_type": "code",
      "execution_count": 4,
      "metadata": {
        "colab": {
          "base_uri": "https://localhost:8080/"
        },
        "id": "Iay_tkYyUTPZ",
        "outputId": "2727f942-7172-49d9-95ed-a708fb4b256d"
      },
      "outputs": [
        {
          "output_type": "stream",
          "name": "stdout",
          "text": [
            "('__label__de', ['Ich', 'würde', 'alles', 'tun,', 'um', 'dich', 'zu', 'beschützen.'])\n"
          ]
        }
      ],
      "source": [
        "data = load_data(\"train1.txt\")\n",
        "print(data[0])"
      ]
    },
    {
      "cell_type": "markdown",
      "metadata": {
        "id": "VIaWdlDxUTPa"
      },
      "source": [
        "Next, we will start implementing the Naive Bayes method. This technique is based on word counts, and we thus need to start by implementing a function to count the words and labels of our training set.\n",
        "\n",
        "`n_examples` is the total number of examples\n",
        "\n",
        "`n_words_per_label` is the total number of words for a given label\n",
        "\n",
        "`label_counts` is the number of times a given label appears in the training data\n",
        "\n",
        "`word_counts` is the number of times a word appears with a given label"
      ]
    },
    {
      "cell_type": "code",
      "execution_count": 5,
      "metadata": {
        "id": "96M2HtuwUTPc"
      },
      "outputs": [],
      "source": [
        "def count_words(data):\n",
        "    n_examples = 0\n",
        "    n_words_per_label = defaultdict(lambda: 0)\n",
        "    label_counts = defaultdict(lambda: 0)\n",
        "    word_counts = defaultdict(lambda: defaultdict(lambda: 0.0))\n",
        "\n",
        "    for example in data:\n",
        "        label, sentence = example\n",
        "        ## FILL CODE\n",
        "        n_examples += 1\n",
        "        n_words_per_label[label] += len(sentence)\n",
        "        label_counts[label] += 1\n",
        "        for word in sentence:\n",
        "            word_counts[label][word] += 1\n",
        "\n",
        "    return {'label_counts': label_counts, \n",
        "            'word_counts': word_counts, \n",
        "            'n_examples': n_examples, \n",
        "            'n_words_per_label': n_words_per_label}"
      ]
    },
    {
      "cell_type": "markdown",
      "metadata": {
        "id": "s2EX660LUTPe"
      },
      "source": [
        "Next, using the word and label counts from the previous function, we can implement the prediction function.\n",
        "\n",
        "Here, `mu` is a regularization parameter (Laplace smoothing), and `sentence` is the list of words corresponding to the test example."
      ]
    },
    {
      "cell_type": "code",
      "execution_count": 6,
      "metadata": {
        "id": "52MjaRxvUTPg"
      },
      "outputs": [],
      "source": [
        "def predict(sentence, mu, label_counts, word_counts, n_examples, n_words_per_label):\n",
        "    best_label = None\n",
        "    best_score = float('-inf')\n",
        "\n",
        "    for label in word_counts.keys():\n",
        "        score = 0.0\n",
        "        ## FILE CODE\n",
        "        # To ease the code, I suppose that the number of vocabulary is 5 times of the vocabulary appear in the label.\n",
        "        V = 5*len(word_counts[label].keys()) \n",
        "        log_p_label = math.log(label_counts[label]) - math.log(n_examples)\n",
        "        score += log_p_label\n",
        "        for word in sentence:\n",
        "            log_num = math.log(mu + word_counts[label][word])\n",
        "            log_denom = math.log(mu*V + n_words_per_label[label])\n",
        "            log_p_word_given_label = log_num - log_denom\n",
        "            score += log_p_word_given_label\n",
        "        if best_score < score:\n",
        "            best_score = score\n",
        "            best_label = label\n",
        "\n",
        "    return best_label"
      ]
    },
    {
      "cell_type": "markdown",
      "metadata": {
        "id": "RACoytePUTPi"
      },
      "source": [
        "The next function will be used to evaluate the Naive Bayes model on a validation set. It computes the accuracy for a particular regularization parameter `mu`."
      ]
    },
    {
      "cell_type": "code",
      "execution_count": 7,
      "metadata": {
        "id": "J5DGa5O2UTPk"
      },
      "outputs": [],
      "source": [
        "def compute_accuracy(valid_data, mu, counts):\n",
        "    accuracy = 0.0\n",
        "    label_counts = counts[\"label_counts\"]\n",
        "    word_counts = counts[\"word_counts\"]\n",
        "    n_examples = counts[\"n_examples\"]\n",
        "    n_words_per_label = counts[\"n_words_per_label\"]\n",
        "    for label, sentence in valid_data:\n",
        "        ## FILL CODE\n",
        "        label_pred = predict(sentence, mu, label_counts, word_counts, n_examples, n_words_per_label)\n",
        "        if label == label_pred:\n",
        "            accuracy += 1\n",
        "\n",
        "     \n",
        "    return accuracy/len(valid_data)"
      ]
    },
    {
      "cell_type": "code",
      "execution_count": 8,
      "metadata": {
        "colab": {
          "base_uri": "https://localhost:8080/"
        },
        "id": "k3e24Ox0UTPl",
        "outputId": "988bfe1c-45e2-499c-866e-129d1d0ecf1a"
      },
      "outputs": [
        {
          "output_type": "stream",
          "name": "stdout",
          "text": [
            "\n",
            "** Naive Bayes **\n",
            "\n",
            "Validation accuracy: 0.945\n",
            "\n"
          ]
        }
      ],
      "source": [
        "print(\"\")\n",
        "print(\"** Naive Bayes **\")\n",
        "print(\"\")\n",
        "\n",
        "mu = 1.0\n",
        "train_data = load_data(\"train1.txt\")\n",
        "valid_data = load_data(\"valid1.txt\")\n",
        "counts = count_words(train_data)\n",
        "print(\"Validation accuracy: %.3f\" % compute_accuracy(valid_data, mu, counts))\n",
        "print(\"\")"
      ]
    }
  ],
  "metadata": {
    "colab": {
      "collapsed_sections": [],
      "name": "naive_bayes.ipynb",
      "provenance": []
    },
    "kernelspec": {
      "display_name": "Python 3",
      "language": "python",
      "name": "python3"
    },
    "language_info": {
      "codemirror_mode": {
        "name": "ipython",
        "version": 3
      },
      "file_extension": ".py",
      "mimetype": "text/x-python",
      "name": "python",
      "nbconvert_exporter": "python",
      "pygments_lexer": "ipython3",
      "version": "3.6.2+"
    }
  },
  "nbformat": 4,
  "nbformat_minor": 0
}