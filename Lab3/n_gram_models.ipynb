{
 "cells": [
  {
   "cell_type": "markdown",
   "metadata": {
    "id": "xZ8MzOX8Ca_6"
   },
   "source": [
    "# [Heritiana Daniel Andriasolofo](handriasolofo@aimsammi.org)"
   ]
  },
  {
   "cell_type": "markdown",
   "metadata": {
    "id": "jXejso5sOvVo"
   },
   "source": [
    "\n",
    "<h1 style=\"font-family:verdana;font-size:300%;text-align:center;background-color:#f2f2f2;color:#0d0d0d\">AMMI NLP - Review sessions</h1>\n",
    "\n",
    "<h1 style=\"font-family:verdana;font-size:180%;text-align:Center;color:#993333\"> Lab 3: n-gram models </h1>"
   ]
  },
  {
   "cell_type": "markdown",
   "metadata": {
    "id": "Vy8qXEPPOvVt"
   },
   "source": [
    "**Big thanks to Amr Khalifa who improved this lab and made it to a Jupyter Notebook!**"
   ]
  },
  {
   "cell_type": "code",
   "execution_count": 1,
   "metadata": {
    "id": "O7kD_5UmOvVw"
   },
   "outputs": [],
   "source": [
    "import io, sys, math, re\n",
    "from collections import defaultdict\n",
    "import numpy as np"
   ]
  },
  {
   "cell_type": "code",
   "execution_count": 2,
   "metadata": {
    "colab": {
     "base_uri": "https://localhost:8080/"
    },
    "id": "0LDd3ykxQSMA",
    "outputId": "38dcb218-fef0-4c6d-a1dc-ec7dc9469be4"
   },
   "outputs": [],
   "source": [
    "!rm data.zip train* valid*\n",
    "!wget -O data.zip https://github.com/heritiana-aimsammi-sn2022/NLP_week1/blob/main/Lab3/data/data.zip?raw=true\n",
    "!unzip data.zip\n",
    "!rm data.zip"
   ]
  },
  {
   "cell_type": "code",
   "execution_count": 3,
   "metadata": {
    "id": "GzmzqZw8OvV0"
   },
   "outputs": [],
   "source": [
    "# data_loader\n",
    "def load_data(filename):\n",
    "    '''\n",
    "    parameters:\n",
    "    filename (string): datafile\n",
    "    \n",
    "    Returns:\n",
    "    data (list of lists): each list is a sentence of the text \n",
    "    vocab (dictionary): {word: no of times it appears in the text}\n",
    "    '''\n",
    "    fin = io.open(filename, 'r', encoding='utf-8')\n",
    "    data = []\n",
    "    vocab = defaultdict(lambda:0)\n",
    "    for line in fin:\n",
    "        sentence = line.split()\n",
    "        data.append(sentence)\n",
    "        for word in sentence:\n",
    "            vocab[word] += 1\n",
    "    return data, vocab"
   ]
  },
  {
   "cell_type": "code",
   "execution_count": 4,
   "metadata": {
    "colab": {
     "base_uri": "https://localhost:8080/"
    },
    "id": "DjY_MABSOvV2",
    "outputId": "eb2b935b-0815-4147-f464-07648299fe6a"
   },
   "outputs": [
    {
     "name": "stdout",
     "output_type": "stream",
     "text": [
      "load training set..\n",
      "\n",
      "\n",
      "['<s>', 'my', 'fathers', \"don't\", 'speak', 'dutch.', '</s>']\n",
      "\n",
      "\n",
      "how : 107\n",
      "load validation set\n"
     ]
    }
   ],
   "source": [
    "print(\"load training set..\")\n",
    "print(\"\\n\")\n",
    "train_data, vocab = load_data(\"train1.txt\")\n",
    "print(train_data[0])\n",
    "print(\"\\n\")\n",
    "print(\"how :\",vocab['how'])\n",
    "print(\"load validation set\")\n",
    "valid_data, _ = load_data(\"valid1.txt\")\n"
   ]
  },
  {
   "cell_type": "code",
   "execution_count": 5,
   "metadata": {
    "id": "h37d1JPDOvV3"
   },
   "outputs": [],
   "source": [
    "def remove_rare_words(data, vocab, mincount = 1):\n",
    "    '''\n",
    "    Parameters:\n",
    "    data (list of lists): each list is a sentence of the text \n",
    "    vocab (dictionary): {word: no of times it appears in the text}\n",
    "    mincount(int): the minimum count \n",
    "    \n",
    "    Returns: \n",
    "    data_with_unk(list of lists): data after replacing rare words with <unk> token\n",
    "    '''\n",
    "    # replace words in data that are not in the vocab \n",
    "    # or have a count that is below mincount\n",
    "    data_with_unk = []\n",
    "\n",
    "    ## FILL CODE\n",
    "    for sentence in data:\n",
    "        sentence_with_unk = []\n",
    "        for word in sentence:\n",
    "            new_word = word if mincount <= vocab[word] else \"<unk>\"\n",
    "            sentence_with_unk.append(new_word)\n",
    "        data_with_unk.append(sentence_with_unk)\n",
    "    \n",
    "    return data_with_unk"
   ]
  },
  {
   "cell_type": "code",
   "execution_count": 6,
   "metadata": {
    "colab": {
     "base_uri": "https://localhost:8080/"
    },
    "id": "vM6sRgwrOvV6",
    "outputId": "e7969072-1989-4634-ada2-84793c08a1cb"
   },
   "outputs": [
    {
     "name": "stdout",
     "output_type": "stream",
     "text": [
      "remove rare words\n",
      "['<s>', 'my', 'fathers', \"don't\", 'speak', 'dutch.', '</s>']\n"
     ]
    }
   ],
   "source": [
    "print(\"remove rare words\")\n",
    "train_data = remove_rare_words(train_data, vocab, mincount = 1)\n",
    "valid_data = remove_rare_words(valid_data, vocab, mincount = 1)\n",
    "print(train_data[0])"
   ]
  },
  {
   "cell_type": "code",
   "execution_count": 7,
   "metadata": {
    "id": "6zr5QTi-OvV7"
   },
   "outputs": [],
   "source": [
    "def build_ngram(data, n):\n",
    "    '''\n",
    "    Parameters:\n",
    "    data (list of lists): each list is a sentence of the text \n",
    "    n (int): size of the n-gram\n",
    "    \n",
    "    Returns:\n",
    "    prob (dictionary of dictionary)\n",
    "    {\n",
    "        context: {word:probability of this word given context}\n",
    "    }\n",
    "    '''\n",
    "    total_number_words = 0\n",
    "    counts = defaultdict(lambda: defaultdict(lambda: 0.0))\n",
    "\n",
    "    for sentence in data:\n",
    "        sentence = tuple(sentence)\n",
    "        ## FILL CODE\n",
    "        # dict can be indexed by tuples\n",
    "        # store in the same dict all the ngrams\n",
    "        # by using the context as a key and the word as a value\n",
    "        for k in range(1,n+1):\n",
    "            for i in range(len(sentence)- k + 1):\n",
    "                k_words = sentence[i:i+k]\n",
    "                context = k_words[:-1]\n",
    "                word = k_words[-1]\n",
    "                counts[context][word] += 1\n",
    "        \n",
    "    prob = defaultdict(lambda: defaultdict(lambda: 0.0))\n",
    "    # Build the probabilities from the counts\n",
    "    # Be careful with how you normalize!\n",
    "    for context in counts.keys():\n",
    "        ## FILL CODE\n",
    "        n_context = sum(counts[context].values()) # the number of time that context appeared \n",
    "        for word in counts[context].keys():\n",
    "            prob[context][word] = counts[context][word]/n_context\n",
    "\n",
    "    return prob"
   ]
  },
  {
   "cell_type": "code",
   "execution_count": 8,
   "metadata": {
    "id": "3n6FratjOvV-"
   },
   "outputs": [
    {
     "name": "stdout",
     "output_type": "stream",
     "text": [
      "build ngram model with n =  2\n"
     ]
    }
   ],
   "source": [
    "# RUN TO BUILD NGRAM MODEL\n",
    "n = 2\n",
    "print(\"build ngram model with n = \", n)\n",
    "model = build_ngram(train_data, n)"
   ]
  },
  {
   "cell_type": "markdown",
   "metadata": {
    "id": "980_gtzNOvWC"
   },
   "source": [
    "Here, implement a recursive function over shorter and shorter context to compute a \"stupid backoff model\". An interpolation model can also be implemented this way."
   ]
  },
  {
   "cell_type": "code",
   "execution_count": 9,
   "metadata": {
    "id": "BbOPVWw0OvWE"
   },
   "outputs": [],
   "source": [
    "def get_prob(model, context, w):\n",
    "    '''\n",
    "    Parameters:\n",
    "    model (dictionary of dictionary)\n",
    "    {\n",
    "        context: {word:probability of this word given context}\n",
    "    } \n",
    "    context (list of strings): a sentence\n",
    "    w(string): the word we need to find it's probability given the context\n",
    "    \n",
    "    Retunrs:\n",
    "    prob(float): probability of this word given the context \n",
    "    '''\n",
    "\n",
    "    # code a recursive function over \n",
    "    # smaller and smaller context\n",
    "    # to compute the backoff model\n",
    "    \n",
    "    ## FILL CODE\n",
    "    \n",
    "    context = tuple(context)\n",
    "    model_context_size = len(list(model.keys())[0])\n",
    "    \n",
    "    \n",
    "    context_size = len(context)\n",
    "    \n",
    "    prob = model[context][w]\n",
    "    print(context)\n",
    "    if prob == 0 and context_size>0 :\n",
    "        prob = 0.4 * get_prob(model, context[1:], w)\n",
    "    \n",
    "    return prob\n"
   ]
  },
  {
   "cell_type": "code",
   "execution_count": null,
   "metadata": {
    "id": "l8FproVgOvWF"
   },
   "outputs": [],
   "source": [
    "def perplexity(model, data, n):\n",
    "    '''\n",
    "    Parameters: \n",
    "    model (dictionary of dictionary)\n",
    "    {\n",
    "        context: {word:probability of this word given context}\n",
    "    } \n",
    "    data (list of lists): each list is a sentence of the text\n",
    "    n(int): size of the n-gram\n",
    "    \n",
    "    Retunrs:\n",
    "    perp(float): the perplexity of the model \n",
    "    '''\n",
    "    ## FILL CODE\n",
    "\n",
    "    return 0.0"
   ]
  },
  {
   "cell_type": "code",
   "execution_count": null,
   "metadata": {
    "id": "_5wpVIMaOvWH"
   },
   "outputs": [],
   "source": [
    "# COMPUTE PERPLEXITY ON VALIDATION SET\n",
    "\n",
    "print(\"The perplexity is\", perplexity(model, valid_data, n=n))"
   ]
  },
  {
   "cell_type": "code",
   "execution_count": null,
   "metadata": {
    "id": "QIbEc1sYOvWH"
   },
   "outputs": [],
   "source": [
    "def get_proba_distrib(model, context):\n",
    "    ## need to get the the words after the context and their probability of appearance\n",
    "    ## after this context \n",
    "    '''\n",
    "    Parameters: \n",
    "    model (dictionary of dictionary)\n",
    "    {\n",
    "        context: {word:probability of this word given context}\n",
    "    }\n",
    "    context (list of strings): the sentence we need to find the words after it and \n",
    "    thier probabilites\n",
    "    \n",
    "    Retunrs:\n",
    "    words_and_probs(dic): {word: probability of word given context}\n",
    "    \n",
    "    '''\n",
    "    # code a recursive function over context\n",
    "    # to find the longest available ngram\n",
    "    \n",
    "    ## FILL CODE\n",
    "    \n",
    "    return None"
   ]
  },
  {
   "cell_type": "code",
   "execution_count": null,
   "metadata": {
    "id": "MDaepLyTOvWJ"
   },
   "outputs": [],
   "source": [
    "def generate(model):\n",
    "    '''\n",
    "    Parameters: \n",
    "    model (dictionary of dictionary)\n",
    "    {\n",
    "        context: {word:probability of this word given context}\n",
    "    }\n",
    "    \n",
    "    Retunrs:\n",
    "    sentence (list of strings): a sentence sampled according to the language model. \n",
    "    \n",
    "\n",
    "    '''\n",
    "    # generate a sentence. A sentence starts with a <s> and ends with a </s>\n",
    "    # Possiblly a use function is:\n",
    "    # np.random.choice(x, 1, p = y)\n",
    "\n",
    "    # where x is a list of things to sample from\n",
    "    # and y is a list of probability (of the same length as x)\n",
    "    sentence = [\"<s>\"]\n",
    "    while sentence[-1] != \"</s>\" and len(sentence)<100:\n",
    "        ## FILL CODE\n",
    "        \n",
    "    return sentence"
   ]
  },
  {
   "cell_type": "code",
   "execution_count": null,
   "metadata": {
    "id": "DSRweeelOvWK"
   },
   "outputs": [],
   "source": [
    "# GENERATE A SENTENCE FROM THE MODEL\n",
    "\n",
    "print(\"Generated sentence: \",generate(model))"
   ]
  },
  {
   "cell_type": "markdown",
   "metadata": {
    "id": "8ra2rPiaOvWL"
   },
   "source": [
    "Once you are done implementing the model, evaluation and generation code, you can try changing the value of `n`, and play with a larger training set (`train2.txt` and `valid2.txt`). You can also try to implement an interpolation model."
   ]
  },
  {
   "cell_type": "code",
   "execution_count": null,
   "metadata": {
    "id": "r3CAjvhIOvWN"
   },
   "outputs": [],
   "source": []
  }
 ],
 "metadata": {
  "colab": {
   "collapsed_sections": [],
   "name": "n_gram_models.ipynb",
   "provenance": []
  },
  "kernelspec": {
   "display_name": "Python 3",
   "language": "python",
   "name": "python3"
  },
  "language_info": {
   "codemirror_mode": {
    "name": "ipython",
    "version": 3
   },
   "file_extension": ".py",
   "mimetype": "text/x-python",
   "name": "python",
   "nbconvert_exporter": "python",
   "pygments_lexer": "ipython3",
   "version": "3.8.10"
  }
 },
 "nbformat": 4,
 "nbformat_minor": 1
}
