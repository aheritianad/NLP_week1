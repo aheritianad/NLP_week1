{
 "cells": [
  {
   "cell_type": "markdown",
   "metadata": {
    "id": "xZ8MzOX8Ca_6"
   },
   "source": [
    "# [Heritiana Daniel Andriasolofo](handriasolofo@aimsammi.org)"
   ]
  },
  {
   "cell_type": "markdown",
   "metadata": {
    "id": "jXejso5sOvVo"
   },
   "source": [
    "\n",
    "<h1 style=\"font-family:verdana;font-size:300%;text-align:center;background-color:#f2f2f2;color:#0d0d0d\">AMMI NLP - Review sessions</h1>\n",
    "\n",
    "<h1 style=\"font-family:verdana;font-size:180%;text-align:Center;color:#993333\"> Lab 3: n-gram models </h1>"
   ]
  },
  {
   "cell_type": "markdown",
   "metadata": {
    "id": "Vy8qXEPPOvVt"
   },
   "source": [
    "**Big thanks to Amr Khalifa who improved this lab and made it to a Jupyter Notebook!**"
   ]
  },
  {
   "cell_type": "code",
   "execution_count": 1,
   "metadata": {
    "id": "O7kD_5UmOvVw"
   },
   "outputs": [],
   "source": [
    "import io, sys, math, re\n",
    "from collections import defaultdict\n",
    "import numpy as np"
   ]
  },
  {
   "cell_type": "code",
   "execution_count": null,
   "metadata": {
    "colab": {
     "base_uri": "https://localhost:8080/"
    },
    "id": "0LDd3ykxQSMA",
    "outputId": "38dcb218-fef0-4c6d-a1dc-ec7dc9469be4"
   },
   "outputs": [],
   "source": [
    "!rm data.zip train* valid*\n",
    "!wget -O data.zip https://github.com/heritiana-aimsammi-sn2022/NLP_week1/blob/main/Lab3/data/data.zip?raw=true\n",
    "!unzip data.zip\n",
    "!rm data.zip"
   ]
  },
  {
   "cell_type": "code",
   "execution_count": 3,
   "metadata": {
    "id": "GzmzqZw8OvV0"
   },
   "outputs": [],
   "source": [
    "# data_loader\n",
    "def load_data(filename):\n",
    "    '''\n",
    "    parameters:\n",
    "    filename (string): datafile\n",
    "    \n",
    "    Returns:\n",
    "    data (list of lists): each list is a sentence of the text \n",
    "    vocab (dictionary): {word: no of times it appears in the text}\n",
    "    '''\n",
    "    fin = io.open(filename, 'r', encoding='utf-8')\n",
    "    data = []\n",
    "    vocab = defaultdict(lambda:0)\n",
    "    for line in fin:\n",
    "        sentence = line.split()\n",
    "        data.append(sentence)\n",
    "        for word in sentence:\n",
    "            vocab[word] += 1\n",
    "    return data, vocab"
   ]
  },
  {
   "cell_type": "code",
   "execution_count": 4,
   "metadata": {
    "colab": {
     "base_uri": "https://localhost:8080/"
    },
    "id": "DjY_MABSOvV2",
    "outputId": "eb2b935b-0815-4147-f464-07648299fe6a"
   },
   "outputs": [
    {
     "name": "stdout",
     "output_type": "stream",
     "text": [
      "load training set..\n",
      "\n",
      "\n",
      "['<s>', 'my', 'fathers', \"don't\", 'speak', 'dutch.', '</s>']\n",
      "\n",
      "\n",
      "how : 107\n",
      "load validation set\n"
     ]
    }
   ],
   "source": [
    "print(\"load training set..\")\n",
    "print(\"\\n\")\n",
    "train_data, vocab = load_data(\"train1.txt\")\n",
    "print(train_data[0])\n",
    "print(\"\\n\")\n",
    "print(\"how :\",vocab['how'])\n",
    "print(\"load validation set\")\n",
    "valid_data, _ = load_data(\"valid1.txt\")\n"
   ]
  },
  {
   "cell_type": "code",
   "execution_count": 5,
   "metadata": {
    "id": "h37d1JPDOvV3"
   },
   "outputs": [],
   "source": [
    "def remove_rare_words(data, vocab, mincount = 1):\n",
    "    '''\n",
    "    Parameters:\n",
    "    data (list of lists): each list is a sentence of the text \n",
    "    vocab (dictionary): {word: no of times it appears in the text}\n",
    "    mincount(int): the minimum count \n",
    "    \n",
    "    Returns: \n",
    "    data_with_unk(list of lists): data after replacing rare words with <unk> token\n",
    "    '''\n",
    "    # replace words in data that are not in the vocab \n",
    "    # or have a count that is below mincount\n",
    "    data_with_unk = []\n",
    "\n",
    "    ## FILL CODE\n",
    "    for sentence in data:\n",
    "        sentence_with_unk = []\n",
    "        for word in sentence:\n",
    "            new_word = word if mincount < vocab[word] else \"<unk>\"\n",
    "            sentence_with_unk.append(new_word)\n",
    "        data_with_unk.append(sentence_with_unk)\n",
    "    \n",
    "    return data_with_unk"
   ]
  },
  {
   "cell_type": "code",
   "execution_count": 6,
   "metadata": {
    "colab": {
     "base_uri": "https://localhost:8080/"
    },
    "id": "vM6sRgwrOvV6",
    "outputId": "e7969072-1989-4634-ada2-84793c08a1cb"
   },
   "outputs": [
    {
     "name": "stdout",
     "output_type": "stream",
     "text": [
      "remove rare words\n",
      "['<s>', 'my', '<unk>', \"don't\", 'speak', '<unk>', '</s>']\n"
     ]
    }
   ],
   "source": [
    "print(\"remove rare words\")\n",
    "train_data = remove_rare_words(train_data, vocab, mincount = 1)\n",
    "valid_data = remove_rare_words(valid_data, vocab, mincount = 1)\n",
    "print(train_data[0])"
   ]
  },
  {
   "cell_type": "code",
   "execution_count": 7,
   "metadata": {
    "id": "6zr5QTi-OvV7"
   },
   "outputs": [],
   "source": [
    "def build_ngram(data, n):\n",
    "    '''\n",
    "    Parameters:\n",
    "    data (list of lists): each list is a sentence of the text \n",
    "    n (int): size of the n-gram\n",
    "    \n",
    "    Returns:\n",
    "    prob (dictionary of dictionary)\n",
    "    {\n",
    "        context: {word:probability of this word given context}\n",
    "    }\n",
    "    '''\n",
    "    total_number_words = 0\n",
    "    counts = defaultdict(lambda: defaultdict(lambda: 0.0))\n",
    "\n",
    "    for sentence in data:\n",
    "        sentence = tuple(sentence)\n",
    "        ## FILL CODE\n",
    "        # dict can be indexed by tuples\n",
    "        # store in the same dict all the ngrams\n",
    "        # by using the context as a key and the word as a value\n",
    "        for k in range(1,n+1):\n",
    "            # build counts for k-gram where k start from 1 to n.\n",
    "            for i in range(len(sentence)- k + 1):\n",
    "                k_words = sentence[i:i+k]\n",
    "                context = k_words[:-1]\n",
    "                word = k_words[-1]\n",
    "                counts[context][word] += 1\n",
    "        \n",
    "    prob = defaultdict(lambda: defaultdict(lambda: 0.0))\n",
    "    # Build the probabilities from the counts\n",
    "    # Be careful with how you normalize!\n",
    "    for context in counts.keys():\n",
    "        ## FILL CODE\n",
    "        n_context = sum(counts[context].values()) # the number of time that context appeared \n",
    "        for word in counts[context].keys():\n",
    "            prob[context][word] = counts[context][word]/n_context\n",
    "\n",
    "    return prob"
   ]
  },
  {
   "cell_type": "code",
   "execution_count": 8,
   "metadata": {
    "id": "3n6FratjOvV-"
   },
   "outputs": [
    {
     "name": "stdout",
     "output_type": "stream",
     "text": [
      "build ngram model with n =  3\n"
     ]
    }
   ],
   "source": [
    "# RUN TO BUILD NGRAM MODEL\n",
    "n = 3\n",
    "print(\"build ngram model with n = \", n)\n",
    "model = build_ngram(train_data, n)"
   ]
  },
  {
   "cell_type": "markdown",
   "metadata": {
    "id": "980_gtzNOvWC"
   },
   "source": [
    "Here, implement a recursive function over shorter and shorter context to compute a \"stupid backoff model\". An interpolation model can also be implemented this way."
   ]
  },
  {
   "cell_type": "code",
   "execution_count": 9,
   "metadata": {
    "id": "BbOPVWw0OvWE"
   },
   "outputs": [],
   "source": [
    "def get_prob(model, context, w):\n",
    "    '''\n",
    "    Parameters:\n",
    "    model (dictionary of dictionary)\n",
    "    {\n",
    "        context: {word:probability of this word given context}\n",
    "    } \n",
    "    context (list of strings): a sentence\n",
    "    w(string): the word we need to find it's probability given the context\n",
    "    \n",
    "    Retunrs:\n",
    "    prob(float): probability of this word given the context \n",
    "    '''\n",
    "\n",
    "    # code a recursive function over \n",
    "    # smaller and smaller context\n",
    "    # to compute the backoff model\n",
    "    \n",
    "    ## FILL CODE\n",
    "    \n",
    "    context = tuple(context)    \n",
    "    context_size = len(context)\n",
    "    \n",
    "    prob = model[context][w]\n",
    "    if prob == 0 and context_size>0 :\n",
    "        prob = 0.4 * get_prob(model, context[1:], w)\n",
    "    \n",
    "    return prob\n"
   ]
  },
  {
   "cell_type": "code",
   "execution_count": 10,
   "metadata": {
    "id": "l8FproVgOvWF"
   },
   "outputs": [],
   "source": [
    "def perplexity(model, data, n):\n",
    "    '''\n",
    "    Parameters: \n",
    "    model (dictionary of dictionary)\n",
    "    {\n",
    "        context: {word:probability of this word given context}\n",
    "    } \n",
    "    data (list of lists): each list is a sentence of the text\n",
    "    n(int): size of the n-gram\n",
    "    \n",
    "    Retunrs:\n",
    "    perp(float): the perplexity of the model \n",
    "    '''\n",
    "    ## FILL CODE\n",
    "    n_word = 0.0\n",
    "    log_perp = 0.0\n",
    "    for sentence in data:\n",
    "        sentence = tuple(sentence)\n",
    "        len_sntnc = len(sentence)\n",
    "        for i in range(len_sntnc):\n",
    "            start = max(0, i - n + 1)\n",
    "            context = sentence[start:i]\n",
    "            word = sentence[i]\n",
    "            n_word += 1\n",
    "            prob = get_prob(model, context, word)\n",
    "\n",
    "            log_perp += np.log(prob)\n",
    "\n",
    "    perp = np.exp(-log_perp/n_word)\n",
    "        \n",
    "    return perp"
   ]
  },
  {
   "cell_type": "code",
   "execution_count": 11,
   "metadata": {
    "id": "_5wpVIMaOvWH"
   },
   "outputs": [
    {
     "name": "stdout",
     "output_type": "stream",
     "text": [
      "The perplexity is 54.48106997198097\n"
     ]
    }
   ],
   "source": [
    "# COMPUTE PERPLEXITY ON VALIDATION SET\n",
    "print(\"The perplexity is\", perplexity(model, valid_data, n=n))"
   ]
  },
  {
   "cell_type": "code",
   "execution_count": 12,
   "metadata": {
    "id": "QIbEc1sYOvWH"
   },
   "outputs": [],
   "source": [
    "def get_proba_distrib(model, context):\n",
    "    ## need to get the the words after the context and their probability of appearance\n",
    "    ## after this context \n",
    "    '''\n",
    "    Parameters: \n",
    "    model (dictionary of dictionary)\n",
    "    {\n",
    "        context: {word:probability of this word given context}\n",
    "    }\n",
    "    context (list of strings): the sentence we need to find the words after it and \n",
    "    thier probabilites\n",
    "    \n",
    "    Retunrs:\n",
    "    words_and_probs(dic): {word: probability of word given context}\n",
    "    \n",
    "    '''\n",
    "    # code a recursive function over context\n",
    "    # to find the longest available ngram\n",
    "    \n",
    "    ## FILL CODE\n",
    "    context = tuple(context)\n",
    "    words_and_probs = model[context]\n",
    "    words_and_probs = words_and_probs if len(words_and_probs.keys()) != 0 else get_proba_distrib(model, context[1:])\n",
    "    \n",
    "    return words_and_probs"
   ]
  },
  {
   "cell_type": "code",
   "execution_count": 13,
   "metadata": {
    "id": "MDaepLyTOvWJ"
   },
   "outputs": [],
   "source": [
    "def generate(model):\n",
    "    '''\n",
    "    Parameters: \n",
    "    model (dictionary of dictionary)\n",
    "    {\n",
    "        context: {word:probability of this word given context}\n",
    "    }\n",
    "    \n",
    "    Retunrs:\n",
    "    sentence (list of strings): a sentence sampled according to the language model. \n",
    "    \n",
    "\n",
    "    '''\n",
    "    # generate a sentence. A sentence starts with a <s> and ends with a </s>\n",
    "    # Possiblly a use function is:\n",
    "    # np.random.choice(x, 1, p = y)\n",
    "\n",
    "    # where x is a list of things to sample from\n",
    "    # and y is a list of probability (of the same length as x)\n",
    "    sentence = [\"<s>\"]\n",
    "    while sentence[-1] != \"</s>\" and len(sentence)<100:\n",
    "        ## FILL CODE\n",
    "        context = sentence[:]\n",
    "        proba_dist = get_proba_distrib(model, context)\n",
    "        words = list(proba_dist.keys())\n",
    "        prob = list(proba_dist.values())\n",
    "        word = np.random.choice(words, p = prob)\n",
    "        sentence.append(word)\n",
    "                \n",
    "    return \" \".join(sentence)"
   ]
  },
  {
   "cell_type": "code",
   "execution_count": 14,
   "metadata": {
    "id": "DSRweeelOvWK"
   },
   "outputs": [
    {
     "name": "stdout",
     "output_type": "stream",
     "text": [
      "Generated sentence: \n",
      "\t <s> to tell the truth. </s>\n"
     ]
    }
   ],
   "source": [
    "# GENERATE A SENTENCE FROM THE MODEL\n",
    "\n",
    "print(\"Generated sentence: \\n\\t\",generate(model))"
   ]
  },
  {
   "cell_type": "markdown",
   "metadata": {},
   "source": [
    "---"
   ]
  },
  {
   "cell_type": "markdown",
   "metadata": {},
   "source": [
    "---"
   ]
  },
  {
   "cell_type": "markdown",
   "metadata": {
    "id": "8ra2rPiaOvWL"
   },
   "source": [
    "Once you are done implementing the model, evaluation and generation code, you can try changing the value of `n`, and play with a larger training set (`train2.txt` and `valid2.txt`). You can also try to implement an interpolation model."
   ]
  },
  {
   "cell_type": "code",
   "execution_count": 15,
   "metadata": {
    "id": "r3CAjvhIOvWN"
   },
   "outputs": [
    {
     "name": "stdout",
     "output_type": "stream",
     "text": [
      "The perplexity is 5.145262178444515\n"
     ]
    }
   ],
   "source": [
    "train_data2, vocab2 = load_data(\"train2.txt\")\n",
    "train_data2 = remove_rare_words(train_data2, vocab2, mincount = 1)\n",
    "n2 = 4\n",
    "model2 = build_ngram(train_data2, n2)\n",
    "print(\"The perplexity is\", perplexity(model2, train_data2, n=n2))"
   ]
  },
  {
   "cell_type": "code",
   "execution_count": 16,
   "metadata": {},
   "outputs": [
    {
     "name": "stdout",
     "output_type": "stream",
     "text": [
      "\n",
      "\t\t***GENERATING TEXT***\n",
      "\n",
      "\n",
      "TEXT 1 :\t <s> <unk> and i went and signed the contract . </s>\n",
      "\n",
      "\n",
      "TEXT 2 :\t <s> the cat pressed its nose against the window . </s>\n",
      "\n",
      "\n",
      "TEXT 3 :\t <s> <unk> to <unk> that road again . it 's my custom to go for a walk to clear my head . </s>\n",
      "\n",
      "\n",
      "TEXT 4 :\t <s> tom keeps a change of opinions is almost unknown in an elderly military man . </s>\n",
      "\n",
      "\n",
      "TEXT 5 :\t <s> i 'll be glad to . </s>\n",
      "\n",
      "\n",
      "TEXT 6 :\t <s> i have seen <unk> . </s>\n",
      "\n",
      "\n",
      "TEXT 7 :\t <s> tom checked to see if he could borrow her english textbook . </s>\n",
      "\n",
      "\n",
      "TEXT 8 :\t <s> her <unk> <unk> . </s>\n",
      "\n",
      "\n",
      "TEXT 9 :\t <s> a <unk> <unk> . </s>\n",
      "\n",
      "\n",
      "TEXT 10 :\t <s> it snows a lot in no time at all . </s>\n"
     ]
    }
   ],
   "source": [
    "print(\"\\n\\t\\t***GENERATING TEXT***\")\n",
    "for i in range(1,11):\n",
    "    print(f\"\\n\\nTEXT {i} :\\t\",generate(model2))"
   ]
  }
 ],
 "metadata": {
  "colab": {
   "collapsed_sections": [],
   "name": "n_gram_models.ipynb",
   "provenance": []
  },
  "kernelspec": {
   "display_name": "Python 3",
   "language": "python",
   "name": "python3"
  },
  "language_info": {
   "codemirror_mode": {
    "name": "ipython",
    "version": 3
   },
   "file_extension": ".py",
   "mimetype": "text/x-python",
   "name": "python",
   "nbconvert_exporter": "python",
   "pygments_lexer": "ipython3",
   "version": "3.8.10"
  }
 },
 "nbformat": 4,
 "nbformat_minor": 1
}
